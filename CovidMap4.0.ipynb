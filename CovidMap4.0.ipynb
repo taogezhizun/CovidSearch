{
 "cells": [
  {
   "cell_type": "code",
   "execution_count": 2,
   "metadata": {},
   "outputs": [
    {
     "name": "stdin",
     "output_type": "stream",
     "text": [
      "Please enter the province you want in Chinese to query： 广东\n"
     ]
    },
    {
     "name": "stdout",
     "output_type": "stream",
     "text": [
      "  Region  Number of confirmed casesNew confirmed cases\n",
      "   境外输入         42              5       \n",
      "There are new cases in this area, please pay attention to protection\n",
      "    揭阳           0              0       \n",
      "There are no new cases in this area, please feel free to travel\n",
      "  地区待确认          0              0       \n",
      "There are no new cases in this area, please feel free to travel\n",
      "    广州           0              0       \n",
      "There are no new cases in this area, please feel free to travel\n",
      "    河源           0              0       \n",
      "There are no new cases in this area, please feel free to travel\n",
      "    佛山           0              0       \n",
      "There are no new cases in this area, please feel free to travel\n",
      "    潮州           0              0       \n",
      "There are no new cases in this area, please feel free to travel\n",
      "    中山           0              0       \n",
      "There are no new cases in this area, please feel free to travel\n",
      "    湛江           0              0       \n",
      "There are no new cases in this area, please feel free to travel\n",
      "    珠海           0              0       \n",
      "There are no new cases in this area, please feel free to travel\n",
      "    汕头           0              0       \n",
      "There are no new cases in this area, please feel free to travel\n",
      "    汕尾           0              0       \n",
      "There are no new cases in this area, please feel free to travel\n",
      "    江门           0              0       \n",
      "There are no new cases in this area, please feel free to travel\n",
      "    梅州           0              0       \n",
      "There are no new cases in this area, please feel free to travel\n",
      "    深圳           0              0       \n",
      "There are no new cases in this area, please feel free to travel\n",
      "    肇庆           0              0       \n",
      "There are no new cases in this area, please feel free to travel\n",
      "    东莞           0              0       \n",
      "There are no new cases in this area, please feel free to travel\n",
      "    阳江           0              0       \n",
      "There are no new cases in this area, please feel free to travel\n",
      "    惠州           0              0       \n",
      "There are no new cases in this area, please feel free to travel\n",
      "    茂名           0              0       \n",
      "There are no new cases in this area, please feel free to travel\n",
      "    韶关           0              0       \n",
      "There are no new cases in this area, please feel free to travel\n",
      "    清远           0              0       \n",
      "There are no new cases in this area, please feel free to travel\n"
     ]
    },
    {
     "name": "stdin",
     "output_type": "stream",
     "text": [
      "The query is successful. Enter any character and finish 1\n"
     ]
    }
   ],
   "source": [
    "#A CovidMap program to check the number of confirmed cases and new confirmed cases in different regions\n",
    "\n",
    "import requests\n",
    "import json\n",
    "\n",
    "def data_source():\n",
    "    # Data interface\n",
    "    # Api source site: https://news.qq.com/zt2020/page/feiyan.htm#/\n",
    "    url = 'https://view.inews.qq.com/g2/getOnsInfo?name=disease_h5'\n",
    "    # Convert the data into JSON format\n",
    "    data = json.loads(requests.get(url).json()['data'])\n",
    "    return data\n",
    "\n",
    "def print_confirmed_cases():\n",
    "    data = data_source()['areaTree'][0]['children']\n",
    "    province_data = [] # To store the covid situation of all provinces\n",
    "    province_name = [] # To store name of all provinces for comparison\n",
    "    province = str(input('Please enter the province you want in Chinese to query：'))\n",
    "    \n",
    "    for i in data:\n",
    "        province_name.append(i['name']) # Collect name of all provinces for comparison\n",
    "        province_data.append(i['children']) # Collect covid situation of all provinces\n",
    "        \n",
    "    #Ensure users can enter a correct name of province\n",
    "    while province not in province_name:\n",
    "        print(\"Error! You must input a valid province name in Chinese!Please try again!\\n\")\n",
    "        province = str(input('Please enter the province you want in Chinese to query：'))\n",
    "        \n",
    "    #Find the path and illustrate the content following the format\n",
    "    if province in province_name:\n",
    "        path = province_name.index(province)\n",
    "        data_path = province_data[path]\n",
    "        print('{:^10}{:^10}{:^10}'.format('Region', 'Number of confirmed cases', 'New confirmed cases'))\n",
    "        for i in data_path:\n",
    "            name = i['name']\n",
    "            today = i['today']\n",
    "            total = i['total']\n",
    "            a = '{:^10}{:^15}{:^15}'\n",
    "            print(a.format(name, str(total['nowConfirm']), str(today['confirm'])))\n",
    "            #Send a notification to user base on the situation of cities in selected province\n",
    "            if today['confirm'] == 0:\n",
    "                     print(\"There are no new cases in this area, please feel free to travel\")\n",
    "            else: print(\"There are new cases in this area, please pay attention to protection\")\n",
    "\n",
    "if __name__ == '__main__':\n",
    "    data_source()\n",
    "    print_confirmed_cases()\n",
    "    #Showing the end of the process\n",
    "    input('The query is successful. Enter any character and finish')"
   ]
  },
  {
   "cell_type": "code",
   "execution_count": null,
   "metadata": {},
   "outputs": [],
   "source": []
  },
  {
   "cell_type": "code",
   "execution_count": null,
   "metadata": {},
   "outputs": [],
   "source": []
  }
 ],
 "metadata": {
  "kernelspec": {
   "display_name": "Python 3",
   "language": "python",
   "name": "python3"
  },
  "language_info": {
   "codemirror_mode": {
    "name": "ipython",
    "version": 3
   },
   "file_extension": ".py",
   "mimetype": "text/x-python",
   "name": "python",
   "nbconvert_exporter": "python",
   "pygments_lexer": "ipython3",
   "version": "3.8.5"
  }
 },
 "nbformat": 4,
 "nbformat_minor": 4
}
